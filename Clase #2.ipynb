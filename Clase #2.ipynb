{
 "cells": [
  {
   "cell_type": "code",
   "execution_count": 24,
   "metadata": {},
   "outputs": [],
   "source": [
    "import numpy as np\n",
    "import matplotlib.pyplot as plt\n",
    "from keras.models import Sequential, Model\n",
    "from keras.layers import Dense, Conv2D, MaxPooling2D, Flatten, LSTM, GRU, Input\n",
    "from keras.datasets import mnist\n",
    "from keras.optimizers import Adam\n",
    "from keras.losses import MeanSquaredError\n",
    "from sklearn.model_selection import train_test_split\n",
    "from transformers import T5Tokenizer, T5ForConditionalGeneration\n"
   ]
  },
  {
   "cell_type": "markdown",
   "metadata": {},
   "source": [
    "# 1. MLP (Perceptrón Multicapa)"
   ]
  },
  {
   "cell_type": "code",
   "execution_count": 25,
   "metadata": {},
   "outputs": [],
   "source": [
    "def create_mlp_model(input_dim):\n",
    "    model = Sequential()\n",
    "    model.add(Dense(64, activation='relu', input_dim=input_dim))\n",
    "    model.add(Dense(32, activation='relu'))\n",
    "    model.add(Dense(10, activation='softmax'))\n",
    "    return model"
   ]
  },
  {
   "cell_type": "markdown",
   "metadata": {},
   "source": [
    "# 2. CNN (Red Neuronal Convolucional)"
   ]
  },
  {
   "cell_type": "code",
   "execution_count": 26,
   "metadata": {},
   "outputs": [],
   "source": [
    "def create_cnn_model(input_shape):\n",
    "    model = Sequential()\n",
    "    model.add(Conv2D(32, kernel_size=(3, 3), activation='relu', input_shape=input_shape))\n",
    "    model.add(MaxPooling2D(pool_size=(2, 2)))\n",
    "    model.add(Conv2D(64, kernel_size=(3, 3), activation='relu'))\n",
    "    model.add(MaxPooling2D(pool_size=(2, 2)))\n",
    "    model.add(Flatten())\n",
    "    model.add(Dense(128, activation='relu'))\n",
    "    model.add(Dense(10, activation='softmax'))\n",
    "    return model"
   ]
  },
  {
   "cell_type": "markdown",
   "metadata": {},
   "source": [
    "# 3. LSTM\n"
   ]
  },
  {
   "cell_type": "code",
   "execution_count": 27,
   "metadata": {},
   "outputs": [],
   "source": [
    "def create_lstm_model(timesteps, features):\n",
    "    model = Sequential()\n",
    "    model.add(LSTM(50, input_shape=(timesteps, features)))\n",
    "    model.add(Dense(10, activation='softmax'))\n",
    "    return model\n"
   ]
  },
  {
   "cell_type": "markdown",
   "metadata": {},
   "source": [
    "# 4. GRU"
   ]
  },
  {
   "cell_type": "code",
   "execution_count": 28,
   "metadata": {},
   "outputs": [],
   "source": [
    "def create_gru_model(timesteps, features):\n",
    "    model = Sequential()\n",
    "    model.add(GRU(50, input_shape=(timesteps, features)))\n",
    "    model.add(Dense(10, activation='softmax'))\n",
    "    return model"
   ]
  },
  {
   "cell_type": "markdown",
   "metadata": {},
   "source": [
    "\n",
    "# 5. Autoencoder"
   ]
  },
  {
   "cell_type": "code",
   "execution_count": 29,
   "metadata": {},
   "outputs": [],
   "source": [
    "def create_autoencoder(input_dim):\n",
    "    input_layer = Input(shape=(input_dim,))\n",
    "    encoded = Dense(64, activation='relu')(input_layer)\n",
    "    decoded = Dense(input_dim, activation='sigmoid')(encoded)\n",
    "    autoencoder = Model(input_layer, decoded)\n",
    "    return autoencoder"
   ]
  },
  {
   "cell_type": "markdown",
   "metadata": {},
   "source": [
    "\n",
    "# 6. Transformer (T5)"
   ]
  },
  {
   "cell_type": "code",
   "execution_count": 30,
   "metadata": {},
   "outputs": [],
   "source": [
    "tokenizer = T5Tokenizer.from_pretrained(\"t5-small\")\n",
    "model = T5ForConditionalGeneration.from_pretrained(\"t5-small\")\n",
    "\n",
    "# Función para usar el modelo T5\n",
    "def use_transformer(text):\n",
    "    # Tokenizar el texto de entrada\n",
    "    input_ids = tokenizer.encode(text, return_tensors=\"pt\")\n",
    "    \n",
    "    # Generar la traducción\n",
    "    output = model.generate(input_ids)\n",
    "    \n",
    "    # Decodificar el resultado\n",
    "    translation = tokenizer.decode(output[0], skip_special_tokens=True)\n",
    "    \n",
    "    return translation"
   ]
  },
  {
   "cell_type": "code",
   "execution_count": 31,
   "metadata": {},
   "outputs": [],
   "source": [
    "import numpy as np\n",
    "import matplotlib.pyplot as plt\n",
    "from keras.models import Sequential, Model\n",
    "from keras.layers import Dense, Conv2D, MaxPooling2D, Flatten, LSTM, GRU, Input\n",
    "from keras.datasets import mnist\n",
    "from keras.optimizers import Adam\n",
    "from keras.losses import MeanSquaredError\n",
    "from sklearn.model_selection import train_test_split\n",
    "from transformers import T5Tokenizer, T5ForConditionalGeneration\n"
   ]
  },
  {
   "cell_type": "markdown",
   "metadata": {},
   "source": [
    "# Cargar dataset de MNIST"
   ]
  },
  {
   "cell_type": "code",
   "execution_count": 32,
   "metadata": {},
   "outputs": [],
   "source": [
    "(x_train, y_train), (x_test, y_test) = mnist.load_data()\n",
    "x_train = x_train.astype('float32') / 255\n",
    "x_test = x_test.astype('float32') / 255\n",
    "x_train = np.expand_dims(x_train, axis=-1)\n",
    "x_test = np.expand_dims(x_test, axis=-1)"
   ]
  },
  {
   "cell_type": "markdown",
   "metadata": {},
   "source": [
    "# MLP"
   ]
  },
  {
   "cell_type": "code",
   "execution_count": 33,
   "metadata": {},
   "outputs": [
    {
     "name": "stderr",
     "output_type": "stream",
     "text": [
      "C:\\Users\\juano\\AppData\\Local\\Packages\\PythonSoftwareFoundation.Python.3.11_qbz5n2kfra8p0\\LocalCache\\local-packages\\Python311\\site-packages\\keras\\src\\layers\\core\\dense.py:85: UserWarning: Do not pass an `input_shape`/`input_dim` argument to a layer. When using Sequential models, prefer using an `Input(shape)` object as the first layer in the model instead.\n",
      "  super().__init__(activity_regularizer=activity_regularizer, **kwargs)\n"
     ]
    }
   ],
   "source": [
    "mlp_model = create_mlp_model(input_dim=784)\n",
    "mlp_model.compile(optimizer='adam', loss='sparse_categorical_crossentropy', metrics=['accuracy'])\n",
    "mlp_model.fit(x_train.reshape(-1, 784), y_train, epochs=5, verbose=0)\n",
    "mlp_results = mlp_model.evaluate(x_test.reshape(-1, 784), y_test, verbose=0)"
   ]
  },
  {
   "cell_type": "markdown",
   "metadata": {},
   "source": [
    "# CNN"
   ]
  },
  {
   "cell_type": "code",
   "execution_count": 34,
   "metadata": {},
   "outputs": [
    {
     "name": "stderr",
     "output_type": "stream",
     "text": [
      "C:\\Users\\juano\\AppData\\Local\\Packages\\PythonSoftwareFoundation.Python.3.11_qbz5n2kfra8p0\\LocalCache\\local-packages\\Python311\\site-packages\\keras\\src\\layers\\convolutional\\base_conv.py:99: UserWarning: Do not pass an `input_shape`/`input_dim` argument to a layer. When using Sequential models, prefer using an `Input(shape)` object as the first layer in the model instead.\n",
      "  super().__init__(\n"
     ]
    }
   ],
   "source": [
    "cnn_model = create_cnn_model(input_shape=(28, 28, 1))\n",
    "cnn_model.compile(optimizer='adam', loss='sparse_categorical_crossentropy', metrics=['accuracy'])\n",
    "cnn_model.fit(x_train, y_train, epochs=5, verbose=0)\n",
    "cnn_results = cnn_model.evaluate(x_test, y_test, verbose=0)"
   ]
  },
  {
   "cell_type": "markdown",
   "metadata": {},
   "source": [
    "# LSTM (usaremos una secuencia simulada)"
   ]
  },
  {
   "cell_type": "code",
   "execution_count": 35,
   "metadata": {},
   "outputs": [],
   "source": [
    "timesteps = 10  # Número de pasos de tiempo\n",
    "features = 28   # Número de características (28 para imágenes de 28x28)\n",
    "\n",
    "# Aplanar las imágenes y preparar los datos de entrada\n",
    "x_lstm = x_train.reshape(-1, 28, 28)  # Redimensionar a (n_samples, timesteps=28, features=28)\n",
    "x_lstm = x_lstm[:, :timesteps, :]  # Tomar solo los primeros 10 pasos\n",
    "\n",
    "# Asegurarse de que y_lstm esté alineado con x_lstm\n",
    "y_lstm = y_train[:x_lstm.shape[0]]  # Alinear y_lstm con el número de muestras en x_lstm\n"
   ]
  },
  {
   "cell_type": "code",
   "execution_count": 36,
   "metadata": {},
   "outputs": [
    {
     "name": "stderr",
     "output_type": "stream",
     "text": [
      "C:\\Users\\juano\\AppData\\Local\\Packages\\PythonSoftwareFoundation.Python.3.11_qbz5n2kfra8p0\\LocalCache\\local-packages\\Python311\\site-packages\\keras\\src\\layers\\rnn\\rnn.py:205: UserWarning: Do not pass an `input_shape`/`input_dim` argument to a layer. When using Sequential models, prefer using an `Input(shape)` object as the first layer in the model instead.\n",
      "  super().__init__(**kwargs)\n"
     ]
    }
   ],
   "source": [
    "x_test_lstm = x_test.reshape(-1, 28, 28)  # Redimensionar a (n_samples, timesteps=28, features=28)\n",
    "x_test_lstm = x_test_lstm[:len(x_test_lstm) // timesteps * timesteps]  # Asegurarse de que sea múltiplo de 10\n",
    "y_test_lstm = y_test[:len(x_test_lstm)]  # Alinear y_test\n",
    "\n",
    "# LSTM\n",
    "lstm_model = create_lstm_model(timesteps=timesteps, features=features)\n",
    "lstm_model.compile(optimizer='adam', loss='sparse_categorical_crossentropy', metrics=['accuracy'])\n",
    "lstm_model.fit(x_lstm.reshape(-1, timesteps, features), y_lstm, epochs=5, verbose=0)\n",
    "\n",
    "# Evaluar el modelo LSTM\n",
    "lstm_results = lstm_model.evaluate(x_test_lstm, y_test_lstm, verbose=0)"
   ]
  },
  {
   "cell_type": "markdown",
   "metadata": {},
   "source": [
    "# GRU"
   ]
  },
  {
   "cell_type": "code",
   "execution_count": 37,
   "metadata": {},
   "outputs": [],
   "source": [
    "# Preparar los datos para el GRU\n",
    "timesteps = 10  # Número de pasos de tiempo\n",
    "features = 28   # Número de características (28 para imágenes de 28x28)\n",
    "\n",
    "# Aplanar las imágenes y preparar los datos de entrada\n",
    "x_gru = x_train.reshape(-1, 28, 28)  # Redimensionar a (n_samples, timesteps=28, features=28)\n",
    "x_gru = x_gru[:, :timesteps, :]  # Tomar solo los primeros 10 pasos\n",
    "\n",
    "# Asegurarse de que y_gru esté alineado con x_gru\n",
    "y_gru = y_train[:x_gru.shape[0]]  # Alinear y_gru con el número de muestras en x_gru\n",
    "\n",
    "# Preparar x_test para el GRU\n",
    "x_test_gru = x_test.reshape(-1, 28, 28)  # Redimensionar a (n_samples, timesteps=28, features=28)\n",
    "\n",
    "# Tomar solo un número de muestras que sea un múltiplo de timesteps (en este caso 10)\n",
    "num_samples_gru = len(x_test_gru) // timesteps * timesteps\n",
    "x_test_gru = x_test_gru[:num_samples_gru]  # Asegúrate de que sea múltiplo de 10\n",
    "y_test_gru = y_test[:len(x_test_gru)]"
   ]
  },
  {
   "cell_type": "code",
   "execution_count": 38,
   "metadata": {},
   "outputs": [],
   "source": [
    "gru_model = create_gru_model(timesteps=timesteps, features=features)\n",
    "gru_model.compile(optimizer='adam', loss='sparse_categorical_crossentropy', metrics=['accuracy'])\n",
    "gru_model.fit(x_gru.reshape(-1, timesteps, features), y_gru, epochs=5, verbose=0)\n",
    "\n",
    "# Evaluar el modelo GRU\n",
    "gru_results = gru_model.evaluate(x_test_gru, y_test_gru, verbose=0)"
   ]
  },
  {
   "cell_type": "markdown",
   "metadata": {},
   "source": [
    "# Autoencoder"
   ]
  },
  {
   "cell_type": "code",
   "execution_count": 39,
   "metadata": {},
   "outputs": [],
   "source": [
    "autoencoder = create_autoencoder(input_dim=784)\n",
    "autoencoder.compile(optimizer='adam', loss=MeanSquaredError())\n",
    "autoencoder.fit(x_train.reshape(-1, 784), x_train.reshape(-1, 784), epochs=5, verbose=0)\n",
    "autoencoder_results = autoencoder.evaluate(x_test.reshape(-1, 784), x_test.reshape(-1, 784), verbose=0)"
   ]
  },
  {
   "cell_type": "markdown",
   "metadata": {},
   "source": [
    "# Uso del Transformer"
   ]
  },
  {
   "cell_type": "code",
   "execution_count": 40,
   "metadata": {},
   "outputs": [
    {
     "name": "stdout",
     "output_type": "stream",
     "text": [
      "Comment êtes-vous?\n"
     ]
    }
   ],
   "source": [
    "transformer_output = use_transformer(\"Translate English to French: How are you?\")\n",
    "print(transformer_output)"
   ]
  },
  {
   "cell_type": "markdown",
   "metadata": {},
   "source": [
    "# Resultados"
   ]
  },
  {
   "cell_type": "code",
   "execution_count": 41,
   "metadata": {},
   "outputs": [],
   "source": [
    "results = {\n",
    "    'MLP Accuracy': mlp_results[1],\n",
    "    'CNN Accuracy': cnn_results[1],\n",
    "    'LSTM Accuracy': lstm_results[1],\n",
    "    'GRU Accuracy': gru_results[1],\n",
    "    'Autoencoder Loss': autoencoder_results,\n",
    "    'Transformer Output': transformer_output\n",
    "}\n"
   ]
  },
  {
   "cell_type": "markdown",
   "metadata": {},
   "source": [
    "# Mostrar resultados"
   ]
  },
  {
   "cell_type": "code",
   "execution_count": 42,
   "metadata": {},
   "outputs": [
    {
     "name": "stdout",
     "output_type": "stream",
     "text": [
      "MLP Accuracy: 0.9739999771118164\n",
      "CNN Accuracy: 0.9919999837875366\n",
      "LSTM Accuracy: 0.08100000023841858\n",
      "GRU Accuracy: 0.14429999887943268\n",
      "Autoencoder Loss: 0.004161817952990532\n",
      "Transformer Output: Comment êtes-vous?\n"
     ]
    }
   ],
   "source": [
    "for model_name, result in results.items():\n",
    "    print(f\"{model_name}: {result}\")"
   ]
  },
  {
   "cell_type": "markdown",
   "metadata": {},
   "source": [
    "# Visualizar resultados (opcional)"
   ]
  },
  {
   "cell_type": "code",
   "execution_count": 43,
   "metadata": {},
   "outputs": [
    {
     "data": {
      "image/png": "[encoded data removed]",
      "text/plain": [
       "<Figure size 640x480 with 1 Axes>"
      ]
     },
     "metadata": {},
     "output_type": "display_data"
    }
   ],
   "source": [
    "fig, ax = plt.subplots()\n",
    "ax.bar(results.keys(), [r if isinstance(r, float) else 0 for r in results.values()])\n",
    "ax.set_ylabel('Accuracy / Loss')\n",
    "ax.set_title('Model Performance')\n",
    "plt.xticks(rotation=45)\n",
    "plt.tight_layout()\n",
    "plt.show()"
   ]
  }
 ],
 "metadata": {
  "kernelspec": {
   "display_name": "Python 3",
   "language": "python",
   "name": "python3"
  },
  "language_info": {
   "codemirror_mode": {
    "name": "ipython",
    "version": 3
   },
   "file_extension": ".py",
   "mimetype": "text/x-python",
   "name": "python",
   "nbconvert_exporter": "python",
   "pygments_lexer": "ipython3",
   "version": "3.11.9"
  }
 },
 "nbformat": 4,
 "nbformat_minor": 2
}
